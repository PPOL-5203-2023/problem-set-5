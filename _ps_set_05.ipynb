{
 "cells": [
  {
   "cell_type": "markdown",
   "id": "40babd62",
   "metadata": {},
   "source": [
    "<h1><center> PPOL 5203 Data Science I: Foundations <br><br> \n",
    "<font color='grey'>Problem Set V<br><br>\n",
    "Tiago Ventura</center></center> <h1> \n"
   ]
  },
  {
   "cell_type": "markdown",
   "id": "a2878ca7",
   "metadata": {},
   "source": [
    "# Introduction to Problem Set 04\n",
    "\n",
    "This problem set will focus on Machine Learning and Text as Data. This is a shorter than usual assignment, because I want you to focus on your final project. \n"
   ]
  },
  {
   "cell_type": "markdown",
   "id": "d2ea9a3e",
   "metadata": {},
   "source": [
    "## IMPORTANT: Remember to comment your code!"
   ]
  },
  {
   "cell_type": "markdown",
   "id": "fbbc8ecb",
   "metadata": {},
   "source": [
    "## 1. Your first machine learning pipeline (30pts)\n",
    "\n",
    "Congrats! You were hired as a Data Scientist at the Integrity Institute. Your work will focus on creating models to measure the prevalence of misinformation on social media platforms. To do so, you will need to develop from scratch a machine learning pipeline to predict social media posts (tweets, facebook posts, posts on threads, anything textual) that contain misinformation. \n",
    "\n",
    "You boss just gave you your first batch of data. You need to describe to him all the steps you will take to build your machine learning pipeline. Describe: \n",
    "\n",
    "1) What is your outcome? Assuming the outcome is not defined (your data is not labelled), how will you suggest your colleagues to go about that? \n",
    "\n",
    "2) After you have your outcome, describe if this task is a predictive or inferential type of task. \n",
    "\n",
    "3) Then, explain how you would train your machine learning model. You description should mention the following concepts we saw in class: \n",
    "\n",
    "- Data Pre-Processing\n",
    "\n",
    "- Training vs testing\n",
    "\n",
    "- Model selection, hyper-parameter tunning and cross validation\n",
    "\n",
    "- Out-of-sample prediction and model accuracy\n"
   ]
  },
  {
   "cell_type": "code",
   "execution_count": null,
   "id": "47733679",
   "metadata": {},
   "outputs": [],
   "source": [
    "# Response here: please use markdown to respond"
   ]
  },
  {
   "cell_type": "markdown",
   "id": "1a9b9335",
   "metadata": {},
   "source": [
    "## 2. Finishing the in-class exercise, Machine Learning Week\n",
    "\n",
    "As a practice exercise for you, you will continue some of the exercises I had in mind for you to do in group on the machine learning week. "
   ]
  },
  {
   "cell_type": "code",
   "execution_count": null,
   "id": "70774436",
   "metadata": {},
   "outputs": [],
   "source": [
    "# your code here"
   ]
  },
  {
   "cell_type": "markdown",
   "id": "5e35ea0f",
   "metadata": {},
   "source": [
    "### Question 1 (20pts): \n",
    "\n",
    "Repeat the code we saw in class doing cross-validation for three models below:\n",
    "\n",
    "- elastic net\n",
    "\n",
    "- decision tree\n",
    "\n",
    "- knn neighbors. \n",
    "\n",
    "Run the same code, make sure you load the proper dataset, and show me which model you would choose using the out-of-sample prediction.\n",
    "\n",
    "Question: Which model would you put in production?"
   ]
  },
  {
   "cell_type": "code",
   "execution_count": null,
   "id": "b1fa7efb",
   "metadata": {},
   "outputs": [],
   "source": [
    "# your code here"
   ]
  },
  {
   "cell_type": "markdown",
   "id": "2398fa59",
   "metadata": {},
   "source": [
    "### Question 3 (10pts):\n",
    "\n",
    "Now, add a new model to this list. You will gain extra 5pts if your model achieves a better out-of-sample accuracy than the three models we saw in class. "
   ]
  },
  {
   "cell_type": "code",
   "execution_count": null,
   "id": "d5938854",
   "metadata": {},
   "outputs": [],
   "source": [
    "# your code here"
   ]
  },
  {
   "cell_type": "markdown",
   "id": "782944b3",
   "metadata": {},
   "source": [
    "## 2. Text Analysis (50pts)\n",
    "\n",
    "To practice our text-analysis skills, we will do a simple and fun exercise. Using the ESOC COVID-19 Misinformation Dataset(https://esoc.princeton.edu/publications/esoc-covid-19-misinformation-dataset), apply at least two techniques we saw in our text-analysis notebook to describe how misinformation related to the Covid-19 pandemic. \n",
    "\n",
    "To give you some ideas: \n",
    "\n",
    "- Estimate a topic model in the data to detect the main topics associated with misinformation and covid. \n",
    "\n",
    "- Use any method we saw in class to describe the most important words or bi-grams in the entire data. \n",
    "\n",
    "- Any of these methods can be performed across different groups. Check if there are differences across channels, countries, sources, month, etc.. \n",
    "\n",
    "All of the above are valid, or any other text-analysis technique you want to try. Your task is just to apply two different methods and find two interesting things to say about the data. \n",
    "\n",
    "Run the methods and explain in words what they tell us about misinformation on social media\n"
   ]
  },
  {
   "cell_type": "code",
   "execution_count": 1,
   "id": "b3a64ecb",
   "metadata": {},
   "outputs": [],
   "source": [
    "## code here"
   ]
  }
 ],
 "metadata": {
  "kernelspec": {
   "display_name": "Python 3 (ipykernel)",
   "language": "python",
   "name": "python3"
  },
  "language_info": {
   "codemirror_mode": {
    "name": "ipython",
    "version": 3
   },
   "file_extension": ".py",
   "mimetype": "text/x-python",
   "name": "python",
   "nbconvert_exporter": "python",
   "pygments_lexer": "ipython3",
   "version": "3.11.4"
  }
 },
 "nbformat": 4,
 "nbformat_minor": 5
}
