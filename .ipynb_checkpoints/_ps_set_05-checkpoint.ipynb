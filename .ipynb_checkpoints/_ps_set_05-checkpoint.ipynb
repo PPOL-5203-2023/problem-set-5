{
 "cells": [
  {
   "cell_type": "markdown",
   "id": "40babd62",
   "metadata": {},
   "source": [
    "<h1><center> PPOL 5203 Data Science I: Foundations <br><br> \n",
    "<font color='grey'>Problem Set V<br><br>\n",
    "Tiago Ventura</center></center> <h1> "
   ]
  },
  {
   "cell_type": "markdown",
   "id": "a2878ca7",
   "metadata": {},
   "source": [
    "# Introduction to Problem Set 05\n",
    "\n",
    "This problem set will focus on Machine Learning and Text as Data. This is a shorter than usual assignment, because I want you to focus on your final project. \n"
   ]
  },
  {
   "cell_type": "markdown",
   "id": "d2ea9a3e",
   "metadata": {},
   "source": [
    "## IMPORTANT: \n",
    "\n",
    "- Remember to comment your code!\n",
    "\n",
    "- Remember to write your responses in Markdown"
   ]
  },
  {
   "cell_type": "markdown",
   "id": "fbbc8ecb",
   "metadata": {},
   "source": [
    "## 1. Your first machine learning pipeline (30pts)\n",
    "\n",
    "Congrats! You were hired as a Data Scientist at the Integrity Institute. Your work will focus on creating models to measure the prevalence of misinformation on social media platforms. To do so, you will need to develop from scratch a machine learning pipeline to predict social media posts (tweets, facebook posts, posts on threads, anything textual) that contain misinformation. \n",
    "\n",
    "You boss just gave you your first batch of data. You need to describe to him all the steps you will take to build your machine learning pipeline. Describe: \n",
    "\n",
    "1) What is your outcome? Assume your outcome is not labelled, you only have the social media post and the metadata associated with the post. \n",
    "\n",
    "2) Describe if this task is a predictive or inferential. Explain the reason. \n",
    "\n",
    "3) How will you train your machine learning model? Here, discuss all the steps we saw in class on the Machine Learning Workflow graph. \n"
   ]
  },
  {
   "cell_type": "code",
   "execution_count": null,
   "id": "47733679",
   "metadata": {},
   "outputs": [],
   "source": [
    "# Response here: please use markdown to respond"
   ]
  },
  {
   "cell_type": "markdown",
   "id": "1a9b9335",
   "metadata": {},
   "source": [
    "## 2. Finishing the in-class exercise, Machine Learning Week\n",
    "\n",
    "As a practice exercise for you, you will repeat some of the exercises we did in class for the Machine Learning Week. "
   ]
  },
  {
   "cell_type": "markdown",
   "id": "5e35ea0f",
   "metadata": {},
   "source": [
    "### Question 1 (10pts): \n",
    "\n",
    "Using the diabetes dataset we saw in class, estimate three different types of machine learning models, using cross-validation to select the hyper parameters. I want you to use the three models below:\n",
    "\n",
    "- elastic net\n",
    "\n",
    "- decision tree\n",
    "\n",
    "- knn neighbors. \n",
    "\n",
    "Question: Which model would you put in production? Why?"
   ]
  },
  {
   "cell_type": "code",
   "execution_count": null,
   "id": "b1fa7efb",
   "metadata": {},
   "outputs": [],
   "source": [
    "# your code here"
   ]
  },
  {
   "cell_type": "markdown",
   "id": "2398fa59",
   "metadata": {},
   "source": [
    "### Question 2 (20pts):\n",
    "\n",
    "Now, add a new model to this list and repeat the process. You will only get full point if your model get a better out-of-sample predictive power."
   ]
  },
  {
   "cell_type": "code",
   "execution_count": null,
   "id": "d5938854",
   "metadata": {},
   "outputs": [],
   "source": [
    "# your code here"
   ]
  },
  {
   "cell_type": "markdown",
   "id": "782944b3",
   "metadata": {},
   "source": [
    "## 3. Text Analysis (50pts)\n",
    "\n",
    "To practice our text-analysis skills, we will do a simple and fun exercise. Using the ESOC COVID-19 Misinformation Dataset (https://esoc.princeton.edu/publications/esoc-covid-19-misinformation-dataset), apply at least two techniques we saw in our text-analysis notebook to describe how misinformation relates to the Covid-19 pandemic. \n",
    "\n",
    "To give you some ideas: \n",
    "\n",
    "- Estimate a topic model in the data to detect the main topics associated with misinformation and covid. \n",
    "\n",
    "- Use any method we saw in class to describe the most important words or bi-grams in the entire data. \n",
    "\n",
    "- Any of these methods can be performed across different groups. Check if there are differences across channels, countries, sources, month, etc.. \n",
    "\n",
    "All of the above are valid, or any other text-analysis technique you want to try. Your task is just to apply two different methods and find two interesting things to say about the data. \n",
    "\n",
    "Run the methods and explain in words what they tell us about misinformation on social media\n"
   ]
  },
  {
   "cell_type": "code",
   "execution_count": 1,
   "id": "b3a64ecb",
   "metadata": {},
   "outputs": [],
   "source": [
    "## code here\n",
    "## Remember to discuss your results in markdown."
   ]
  }
 ],
 "metadata": {
  "kernelspec": {
   "display_name": "Python 3 (ipykernel)",
   "language": "python",
   "name": "python3"
  },
  "language_info": {
   "codemirror_mode": {
    "name": "ipython",
    "version": 3
   },
   "file_extension": ".py",
   "mimetype": "text/x-python",
   "name": "python",
   "nbconvert_exporter": "python",
   "pygments_lexer": "ipython3",
   "version": "3.11.4"
  }
 },
 "nbformat": 4,
 "nbformat_minor": 5
}
